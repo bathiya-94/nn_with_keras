{
  "cells": [
    {
      "cell_type": "markdown",
      "source": [
        "# Feed Neural Networks Assignment\n",
        "### Thennakoon TMBSB 219412A"
      ],
      "metadata": {
        "id": "WDrsrK8ETcx8"
      }
    },
    {
      "cell_type": "code",
      "execution_count": 1,
      "metadata": {
        "colab": {
          "base_uri": "https://localhost:8080/"
        },
        "id": "OF3YdyWLHtmB",
        "outputId": "bb217f9b-d1c7-4b7e-b5e1-25bbea85421b"
      },
      "outputs": [
        {
          "output_type": "stream",
          "name": "stdout",
          "text": [
            "Drive already mounted at /content/drive; to attempt to forcibly remount, call drive.mount(\"/content/drive\", force_remount=True).\n"
          ]
        }
      ],
      "source": [
        "from google.colab import drive\n",
        "drive.mount('/content/drive')"
      ]
    },
    {
      "cell_type": "code",
      "execution_count": 2,
      "metadata": {
        "id": "a3qLtPX0iqnl"
      },
      "outputs": [],
      "source": [
        "import tensorflow as tf\n",
        "import pandas as pd\n",
        "import numpy as np"
      ]
    },
    {
      "cell_type": "code",
      "execution_count": 3,
      "metadata": {
        "id": "PgXS-uKqZJoF"
      },
      "outputs": [],
      "source": [
        "from sklearn.preprocessing import StandardScaler, OneHotEncoder\n",
        "from sklearn.compose import make_column_transformer\n",
        "from sklearn.model_selection import GroupShuffleSplit\n",
        "import sklearn.metrics as metrics\n",
        "from sklearn.model_selection import KFold, StratifiedKFold\n",
        "from sklearn.model_selection import train_test_split"
      ]
    },
    {
      "cell_type": "code",
      "execution_count": 4,
      "metadata": {
        "id": "B2QXzfLMipls"
      },
      "outputs": [],
      "source": [
        "from tensorflow import keras\n",
        "from tensorflow.keras import layers\n",
        "from tensorflow.keras import callbacks\n",
        "from tensorflow.keras.utils import plot_model"
      ]
    },
    {
      "cell_type": "markdown",
      "metadata": {
        "id": "QScN-gdLsVf9"
      },
      "source": [
        "### Dataset"
      ]
    },
    {
      "cell_type": "code",
      "execution_count": 5,
      "metadata": {
        "colab": {
          "base_uri": "https://localhost:8080/",
          "height": 204
        },
        "id": "eivdAiJtsXrK",
        "outputId": "1358079e-5a27-41ce-b9d7-827a8e63c99e"
      },
      "outputs": [
        {
          "output_type": "execute_result",
          "data": {
            "text/plain": [
              "    0      1       2  3  4   5   6     7  8  9   10 11 12     13   14 15\n",
              "685  b  21.08  10.085  y  p   e   h  1.25  f  f   0  f  g  00260    0  -\n",
              "686  a  22.67   0.750  u  g   c   v  2.00  f  t   2  t  g  00200  394  -\n",
              "687  a  25.25  13.500  y  p  ff  ff  2.00  f  t   1  t  g  00200    1  -\n",
              "688  b  17.92   0.205  u  g  aa   v  0.04  f  f   0  f  g  00280  750  -\n",
              "689  b  35.00   3.375  u  g   c   h  8.29  f  f   0  t  g  00000    0  -"
            ],
            "text/html": [
              "\n",
              "  <div id=\"df-f3eab086-f77c-4f9e-a808-775b32473a05\">\n",
              "    <div class=\"colab-df-container\">\n",
              "      <div>\n",
              "<style scoped>\n",
              "    .dataframe tbody tr th:only-of-type {\n",
              "        vertical-align: middle;\n",
              "    }\n",
              "\n",
              "    .dataframe tbody tr th {\n",
              "        vertical-align: top;\n",
              "    }\n",
              "\n",
              "    .dataframe thead th {\n",
              "        text-align: right;\n",
              "    }\n",
              "</style>\n",
              "<table border=\"1\" class=\"dataframe\">\n",
              "  <thead>\n",
              "    <tr style=\"text-align: right;\">\n",
              "      <th></th>\n",
              "      <th>0</th>\n",
              "      <th>1</th>\n",
              "      <th>2</th>\n",
              "      <th>3</th>\n",
              "      <th>4</th>\n",
              "      <th>5</th>\n",
              "      <th>6</th>\n",
              "      <th>7</th>\n",
              "      <th>8</th>\n",
              "      <th>9</th>\n",
              "      <th>10</th>\n",
              "      <th>11</th>\n",
              "      <th>12</th>\n",
              "      <th>13</th>\n",
              "      <th>14</th>\n",
              "      <th>15</th>\n",
              "    </tr>\n",
              "  </thead>\n",
              "  <tbody>\n",
              "    <tr>\n",
              "      <th>685</th>\n",
              "      <td>b</td>\n",
              "      <td>21.08</td>\n",
              "      <td>10.085</td>\n",
              "      <td>y</td>\n",
              "      <td>p</td>\n",
              "      <td>e</td>\n",
              "      <td>h</td>\n",
              "      <td>1.25</td>\n",
              "      <td>f</td>\n",
              "      <td>f</td>\n",
              "      <td>0</td>\n",
              "      <td>f</td>\n",
              "      <td>g</td>\n",
              "      <td>00260</td>\n",
              "      <td>0</td>\n",
              "      <td>-</td>\n",
              "    </tr>\n",
              "    <tr>\n",
              "      <th>686</th>\n",
              "      <td>a</td>\n",
              "      <td>22.67</td>\n",
              "      <td>0.750</td>\n",
              "      <td>u</td>\n",
              "      <td>g</td>\n",
              "      <td>c</td>\n",
              "      <td>v</td>\n",
              "      <td>2.00</td>\n",
              "      <td>f</td>\n",
              "      <td>t</td>\n",
              "      <td>2</td>\n",
              "      <td>t</td>\n",
              "      <td>g</td>\n",
              "      <td>00200</td>\n",
              "      <td>394</td>\n",
              "      <td>-</td>\n",
              "    </tr>\n",
              "    <tr>\n",
              "      <th>687</th>\n",
              "      <td>a</td>\n",
              "      <td>25.25</td>\n",
              "      <td>13.500</td>\n",
              "      <td>y</td>\n",
              "      <td>p</td>\n",
              "      <td>ff</td>\n",
              "      <td>ff</td>\n",
              "      <td>2.00</td>\n",
              "      <td>f</td>\n",
              "      <td>t</td>\n",
              "      <td>1</td>\n",
              "      <td>t</td>\n",
              "      <td>g</td>\n",
              "      <td>00200</td>\n",
              "      <td>1</td>\n",
              "      <td>-</td>\n",
              "    </tr>\n",
              "    <tr>\n",
              "      <th>688</th>\n",
              "      <td>b</td>\n",
              "      <td>17.92</td>\n",
              "      <td>0.205</td>\n",
              "      <td>u</td>\n",
              "      <td>g</td>\n",
              "      <td>aa</td>\n",
              "      <td>v</td>\n",
              "      <td>0.04</td>\n",
              "      <td>f</td>\n",
              "      <td>f</td>\n",
              "      <td>0</td>\n",
              "      <td>f</td>\n",
              "      <td>g</td>\n",
              "      <td>00280</td>\n",
              "      <td>750</td>\n",
              "      <td>-</td>\n",
              "    </tr>\n",
              "    <tr>\n",
              "      <th>689</th>\n",
              "      <td>b</td>\n",
              "      <td>35.00</td>\n",
              "      <td>3.375</td>\n",
              "      <td>u</td>\n",
              "      <td>g</td>\n",
              "      <td>c</td>\n",
              "      <td>h</td>\n",
              "      <td>8.29</td>\n",
              "      <td>f</td>\n",
              "      <td>f</td>\n",
              "      <td>0</td>\n",
              "      <td>t</td>\n",
              "      <td>g</td>\n",
              "      <td>00000</td>\n",
              "      <td>0</td>\n",
              "      <td>-</td>\n",
              "    </tr>\n",
              "  </tbody>\n",
              "</table>\n",
              "</div>\n",
              "      <button class=\"colab-df-convert\" onclick=\"convertToInteractive('df-f3eab086-f77c-4f9e-a808-775b32473a05')\"\n",
              "              title=\"Convert this dataframe to an interactive table.\"\n",
              "              style=\"display:none;\">\n",
              "        \n",
              "  <svg xmlns=\"http://www.w3.org/2000/svg\" height=\"24px\"viewBox=\"0 0 24 24\"\n",
              "       width=\"24px\">\n",
              "    <path d=\"M0 0h24v24H0V0z\" fill=\"none\"/>\n",
              "    <path d=\"M18.56 5.44l.94 2.06.94-2.06 2.06-.94-2.06-.94-.94-2.06-.94 2.06-2.06.94zm-11 1L8.5 8.5l.94-2.06 2.06-.94-2.06-.94L8.5 2.5l-.94 2.06-2.06.94zm10 10l.94 2.06.94-2.06 2.06-.94-2.06-.94-.94-2.06-.94 2.06-2.06.94z\"/><path d=\"M17.41 7.96l-1.37-1.37c-.4-.4-.92-.59-1.43-.59-.52 0-1.04.2-1.43.59L10.3 9.45l-7.72 7.72c-.78.78-.78 2.05 0 2.83L4 21.41c.39.39.9.59 1.41.59.51 0 1.02-.2 1.41-.59l7.78-7.78 2.81-2.81c.8-.78.8-2.07 0-2.86zM5.41 20L4 18.59l7.72-7.72 1.47 1.35L5.41 20z\"/>\n",
              "  </svg>\n",
              "      </button>\n",
              "      \n",
              "  <style>\n",
              "    .colab-df-container {\n",
              "      display:flex;\n",
              "      flex-wrap:wrap;\n",
              "      gap: 12px;\n",
              "    }\n",
              "\n",
              "    .colab-df-convert {\n",
              "      background-color: #E8F0FE;\n",
              "      border: none;\n",
              "      border-radius: 50%;\n",
              "      cursor: pointer;\n",
              "      display: none;\n",
              "      fill: #1967D2;\n",
              "      height: 32px;\n",
              "      padding: 0 0 0 0;\n",
              "      width: 32px;\n",
              "    }\n",
              "\n",
              "    .colab-df-convert:hover {\n",
              "      background-color: #E2EBFA;\n",
              "      box-shadow: 0px 1px 2px rgba(60, 64, 67, 0.3), 0px 1px 3px 1px rgba(60, 64, 67, 0.15);\n",
              "      fill: #174EA6;\n",
              "    }\n",
              "\n",
              "    [theme=dark] .colab-df-convert {\n",
              "      background-color: #3B4455;\n",
              "      fill: #D2E3FC;\n",
              "    }\n",
              "\n",
              "    [theme=dark] .colab-df-convert:hover {\n",
              "      background-color: #434B5C;\n",
              "      box-shadow: 0px 1px 3px 1px rgba(0, 0, 0, 0.15);\n",
              "      filter: drop-shadow(0px 1px 2px rgba(0, 0, 0, 0.3));\n",
              "      fill: #FFFFFF;\n",
              "    }\n",
              "  </style>\n",
              "\n",
              "      <script>\n",
              "        const buttonEl =\n",
              "          document.querySelector('#df-f3eab086-f77c-4f9e-a808-775b32473a05 button.colab-df-convert');\n",
              "        buttonEl.style.display =\n",
              "          google.colab.kernel.accessAllowed ? 'block' : 'none';\n",
              "\n",
              "        async function convertToInteractive(key) {\n",
              "          const element = document.querySelector('#df-f3eab086-f77c-4f9e-a808-775b32473a05');\n",
              "          const dataTable =\n",
              "            await google.colab.kernel.invokeFunction('convertToInteractive',\n",
              "                                                     [key], {});\n",
              "          if (!dataTable) return;\n",
              "\n",
              "          const docLinkHtml = 'Like what you see? Visit the ' +\n",
              "            '<a target=\"_blank\" href=https://colab.research.google.com/notebooks/data_table.ipynb>data table notebook</a>'\n",
              "            + ' to learn more about interactive tables.';\n",
              "          element.innerHTML = '';\n",
              "          dataTable['output_type'] = 'display_data';\n",
              "          await google.colab.output.renderOutput(dataTable, element);\n",
              "          const docLink = document.createElement('div');\n",
              "          docLink.innerHTML = docLinkHtml;\n",
              "          element.appendChild(docLink);\n",
              "        }\n",
              "      </script>\n",
              "    </div>\n",
              "  </div>\n",
              "  "
            ]
          },
          "metadata": {},
          "execution_count": 5
        }
      ],
      "source": [
        "df = pd.read_csv(\"drive/My Drive/MSc/Semester 05/NN/Assignment 01/dataset/crx.data\",sep=',', \n",
        "    header=None)\n",
        "df.tail()"
      ]
    },
    {
      "cell_type": "code",
      "execution_count": 6,
      "metadata": {
        "colab": {
          "base_uri": "https://localhost:8080/"
        },
        "id": "uiXkpqVR-cn6",
        "outputId": "44fb7591-2707-43b8-cb21-b330ab295ae6"
      },
      "outputs": [
        {
          "output_type": "execute_result",
          "data": {
            "text/plain": [
              "0      object\n",
              "1      object\n",
              "2     float64\n",
              "3      object\n",
              "4      object\n",
              "5      object\n",
              "6      object\n",
              "7     float64\n",
              "8      object\n",
              "9      object\n",
              "10      int64\n",
              "11     object\n",
              "12     object\n",
              "13     object\n",
              "14      int64\n",
              "15     object\n",
              "dtype: object"
            ]
          },
          "metadata": {},
          "execution_count": 6
        }
      ],
      "source": [
        "df.dtypes"
      ]
    },
    {
      "cell_type": "code",
      "execution_count": 7,
      "metadata": {
        "colab": {
          "base_uri": "https://localhost:8080/"
        },
        "id": "V9QwePtr-SvS",
        "outputId": "87816507-1fdf-4a58-a1ec-7442fbbaeeab"
      },
      "outputs": [
        {
          "output_type": "execute_result",
          "data": {
            "text/plain": [
              "0     0\n",
              "1     0\n",
              "2     0\n",
              "3     0\n",
              "4     0\n",
              "5     0\n",
              "6     0\n",
              "7     0\n",
              "8     0\n",
              "9     0\n",
              "10    0\n",
              "11    0\n",
              "12    0\n",
              "13    0\n",
              "14    0\n",
              "15    0\n",
              "dtype: int64"
            ]
          },
          "metadata": {},
          "execution_count": 7
        }
      ],
      "source": [
        "df.isnull().sum()"
      ]
    },
    {
      "cell_type": "code",
      "execution_count": 8,
      "metadata": {
        "colab": {
          "base_uri": "https://localhost:8080/",
          "height": 204
        },
        "id": "dFEvewO9tu8P",
        "outputId": "55188e5b-7c29-4bf1-dd89-5b11e1f34cd1"
      },
      "outputs": [
        {
          "output_type": "execute_result",
          "data": {
            "text/plain": [
              "    0      1       2  3  4   5   6     7  8  9   10 11 12     13   14 15\n",
              "685  b  21.08  10.085  y  p   e   h  1.25  f  f   0  f  g  00260    0  -\n",
              "686  a  22.67   0.750  u  g   c   v  2.00  f  t   2  t  g  00200  394  -\n",
              "687  a  25.25  13.500  y  p  ff  ff  2.00  f  t   1  t  g  00200    1  -\n",
              "688  b  17.92   0.205  u  g  aa   v  0.04  f  f   0  f  g  00280  750  -\n",
              "689  b  35.00   3.375  u  g   c   h  8.29  f  f   0  t  g  00000    0  -"
            ],
            "text/html": [
              "\n",
              "  <div id=\"df-3f97e65f-4d94-4822-9ee3-406c36585b02\">\n",
              "    <div class=\"colab-df-container\">\n",
              "      <div>\n",
              "<style scoped>\n",
              "    .dataframe tbody tr th:only-of-type {\n",
              "        vertical-align: middle;\n",
              "    }\n",
              "\n",
              "    .dataframe tbody tr th {\n",
              "        vertical-align: top;\n",
              "    }\n",
              "\n",
              "    .dataframe thead th {\n",
              "        text-align: right;\n",
              "    }\n",
              "</style>\n",
              "<table border=\"1\" class=\"dataframe\">\n",
              "  <thead>\n",
              "    <tr style=\"text-align: right;\">\n",
              "      <th></th>\n",
              "      <th>0</th>\n",
              "      <th>1</th>\n",
              "      <th>2</th>\n",
              "      <th>3</th>\n",
              "      <th>4</th>\n",
              "      <th>5</th>\n",
              "      <th>6</th>\n",
              "      <th>7</th>\n",
              "      <th>8</th>\n",
              "      <th>9</th>\n",
              "      <th>10</th>\n",
              "      <th>11</th>\n",
              "      <th>12</th>\n",
              "      <th>13</th>\n",
              "      <th>14</th>\n",
              "      <th>15</th>\n",
              "    </tr>\n",
              "  </thead>\n",
              "  <tbody>\n",
              "    <tr>\n",
              "      <th>685</th>\n",
              "      <td>b</td>\n",
              "      <td>21.08</td>\n",
              "      <td>10.085</td>\n",
              "      <td>y</td>\n",
              "      <td>p</td>\n",
              "      <td>e</td>\n",
              "      <td>h</td>\n",
              "      <td>1.25</td>\n",
              "      <td>f</td>\n",
              "      <td>f</td>\n",
              "      <td>0</td>\n",
              "      <td>f</td>\n",
              "      <td>g</td>\n",
              "      <td>00260</td>\n",
              "      <td>0</td>\n",
              "      <td>-</td>\n",
              "    </tr>\n",
              "    <tr>\n",
              "      <th>686</th>\n",
              "      <td>a</td>\n",
              "      <td>22.67</td>\n",
              "      <td>0.750</td>\n",
              "      <td>u</td>\n",
              "      <td>g</td>\n",
              "      <td>c</td>\n",
              "      <td>v</td>\n",
              "      <td>2.00</td>\n",
              "      <td>f</td>\n",
              "      <td>t</td>\n",
              "      <td>2</td>\n",
              "      <td>t</td>\n",
              "      <td>g</td>\n",
              "      <td>00200</td>\n",
              "      <td>394</td>\n",
              "      <td>-</td>\n",
              "    </tr>\n",
              "    <tr>\n",
              "      <th>687</th>\n",
              "      <td>a</td>\n",
              "      <td>25.25</td>\n",
              "      <td>13.500</td>\n",
              "      <td>y</td>\n",
              "      <td>p</td>\n",
              "      <td>ff</td>\n",
              "      <td>ff</td>\n",
              "      <td>2.00</td>\n",
              "      <td>f</td>\n",
              "      <td>t</td>\n",
              "      <td>1</td>\n",
              "      <td>t</td>\n",
              "      <td>g</td>\n",
              "      <td>00200</td>\n",
              "      <td>1</td>\n",
              "      <td>-</td>\n",
              "    </tr>\n",
              "    <tr>\n",
              "      <th>688</th>\n",
              "      <td>b</td>\n",
              "      <td>17.92</td>\n",
              "      <td>0.205</td>\n",
              "      <td>u</td>\n",
              "      <td>g</td>\n",
              "      <td>aa</td>\n",
              "      <td>v</td>\n",
              "      <td>0.04</td>\n",
              "      <td>f</td>\n",
              "      <td>f</td>\n",
              "      <td>0</td>\n",
              "      <td>f</td>\n",
              "      <td>g</td>\n",
              "      <td>00280</td>\n",
              "      <td>750</td>\n",
              "      <td>-</td>\n",
              "    </tr>\n",
              "    <tr>\n",
              "      <th>689</th>\n",
              "      <td>b</td>\n",
              "      <td>35.00</td>\n",
              "      <td>3.375</td>\n",
              "      <td>u</td>\n",
              "      <td>g</td>\n",
              "      <td>c</td>\n",
              "      <td>h</td>\n",
              "      <td>8.29</td>\n",
              "      <td>f</td>\n",
              "      <td>f</td>\n",
              "      <td>0</td>\n",
              "      <td>t</td>\n",
              "      <td>g</td>\n",
              "      <td>00000</td>\n",
              "      <td>0</td>\n",
              "      <td>-</td>\n",
              "    </tr>\n",
              "  </tbody>\n",
              "</table>\n",
              "</div>\n",
              "      <button class=\"colab-df-convert\" onclick=\"convertToInteractive('df-3f97e65f-4d94-4822-9ee3-406c36585b02')\"\n",
              "              title=\"Convert this dataframe to an interactive table.\"\n",
              "              style=\"display:none;\">\n",
              "        \n",
              "  <svg xmlns=\"http://www.w3.org/2000/svg\" height=\"24px\"viewBox=\"0 0 24 24\"\n",
              "       width=\"24px\">\n",
              "    <path d=\"M0 0h24v24H0V0z\" fill=\"none\"/>\n",
              "    <path d=\"M18.56 5.44l.94 2.06.94-2.06 2.06-.94-2.06-.94-.94-2.06-.94 2.06-2.06.94zm-11 1L8.5 8.5l.94-2.06 2.06-.94-2.06-.94L8.5 2.5l-.94 2.06-2.06.94zm10 10l.94 2.06.94-2.06 2.06-.94-2.06-.94-.94-2.06-.94 2.06-2.06.94z\"/><path d=\"M17.41 7.96l-1.37-1.37c-.4-.4-.92-.59-1.43-.59-.52 0-1.04.2-1.43.59L10.3 9.45l-7.72 7.72c-.78.78-.78 2.05 0 2.83L4 21.41c.39.39.9.59 1.41.59.51 0 1.02-.2 1.41-.59l7.78-7.78 2.81-2.81c.8-.78.8-2.07 0-2.86zM5.41 20L4 18.59l7.72-7.72 1.47 1.35L5.41 20z\"/>\n",
              "  </svg>\n",
              "      </button>\n",
              "      \n",
              "  <style>\n",
              "    .colab-df-container {\n",
              "      display:flex;\n",
              "      flex-wrap:wrap;\n",
              "      gap: 12px;\n",
              "    }\n",
              "\n",
              "    .colab-df-convert {\n",
              "      background-color: #E8F0FE;\n",
              "      border: none;\n",
              "      border-radius: 50%;\n",
              "      cursor: pointer;\n",
              "      display: none;\n",
              "      fill: #1967D2;\n",
              "      height: 32px;\n",
              "      padding: 0 0 0 0;\n",
              "      width: 32px;\n",
              "    }\n",
              "\n",
              "    .colab-df-convert:hover {\n",
              "      background-color: #E2EBFA;\n",
              "      box-shadow: 0px 1px 2px rgba(60, 64, 67, 0.3), 0px 1px 3px 1px rgba(60, 64, 67, 0.15);\n",
              "      fill: #174EA6;\n",
              "    }\n",
              "\n",
              "    [theme=dark] .colab-df-convert {\n",
              "      background-color: #3B4455;\n",
              "      fill: #D2E3FC;\n",
              "    }\n",
              "\n",
              "    [theme=dark] .colab-df-convert:hover {\n",
              "      background-color: #434B5C;\n",
              "      box-shadow: 0px 1px 3px 1px rgba(0, 0, 0, 0.15);\n",
              "      filter: drop-shadow(0px 1px 2px rgba(0, 0, 0, 0.3));\n",
              "      fill: #FFFFFF;\n",
              "    }\n",
              "  </style>\n",
              "\n",
              "      <script>\n",
              "        const buttonEl =\n",
              "          document.querySelector('#df-3f97e65f-4d94-4822-9ee3-406c36585b02 button.colab-df-convert');\n",
              "        buttonEl.style.display =\n",
              "          google.colab.kernel.accessAllowed ? 'block' : 'none';\n",
              "\n",
              "        async function convertToInteractive(key) {\n",
              "          const element = document.querySelector('#df-3f97e65f-4d94-4822-9ee3-406c36585b02');\n",
              "          const dataTable =\n",
              "            await google.colab.kernel.invokeFunction('convertToInteractive',\n",
              "                                                     [key], {});\n",
              "          if (!dataTable) return;\n",
              "\n",
              "          const docLinkHtml = 'Like what you see? Visit the ' +\n",
              "            '<a target=\"_blank\" href=https://colab.research.google.com/notebooks/data_table.ipynb>data table notebook</a>'\n",
              "            + ' to learn more about interactive tables.';\n",
              "          element.innerHTML = '';\n",
              "          dataTable['output_type'] = 'display_data';\n",
              "          await google.colab.output.renderOutput(dataTable, element);\n",
              "          const docLink = document.createElement('div');\n",
              "          docLink.innerHTML = docLinkHtml;\n",
              "          element.appendChild(docLink);\n",
              "        }\n",
              "      </script>\n",
              "    </div>\n",
              "  </div>\n",
              "  "
            ]
          },
          "metadata": {},
          "execution_count": 8
        }
      ],
      "source": [
        "cat_col = [0,1, 3, 4, 5, 6, 8, 9, 11, 12, 13, 15]\n",
        "df[cat_col] = df[cat_col].astype('category')\n",
        "df.tail()"
      ]
    },
    {
      "cell_type": "code",
      "execution_count": 10,
      "metadata": {
        "colab": {
          "base_uri": "https://localhost:8080/"
        },
        "id": "9-MAv5lJvePl",
        "outputId": "94fa1481-5bfe-4ce2-c139-59f710164f21"
      },
      "outputs": [
        {
          "output_type": "execute_result",
          "data": {
            "text/plain": [
              "0     category\n",
              "1     category\n",
              "2      float64\n",
              "3     category\n",
              "4     category\n",
              "5     category\n",
              "6     category\n",
              "7      float64\n",
              "8     category\n",
              "9     category\n",
              "10       int64\n",
              "11    category\n",
              "12    category\n",
              "13    category\n",
              "14       int64\n",
              "15    category\n",
              "dtype: object"
            ]
          },
          "metadata": {},
          "execution_count": 10
        }
      ],
      "source": [
        "df.dtypes"
      ]
    },
    {
      "cell_type": "code",
      "execution_count": 11,
      "metadata": {
        "id": "1YoAYA5Z-f-k"
      },
      "outputs": [],
      "source": [
        "for col in cat_col:\n",
        "    df[col] = df[col].cat.codes"
      ]
    },
    {
      "cell_type": "code",
      "execution_count": 12,
      "metadata": {
        "colab": {
          "base_uri": "https://localhost:8080/"
        },
        "id": "a7PwPEpQ9Lgh",
        "outputId": "9ae2804e-2d65-41ac-b92e-08ea64d7156c"
      },
      "outputs": [
        {
          "output_type": "execute_result",
          "data": {
            "text/plain": [
              "0        int8\n",
              "1       int16\n",
              "2     float64\n",
              "3        int8\n",
              "4        int8\n",
              "5        int8\n",
              "6        int8\n",
              "7     float64\n",
              "8        int8\n",
              "9        int8\n",
              "10      int64\n",
              "11       int8\n",
              "12       int8\n",
              "13      int16\n",
              "14      int64\n",
              "15       int8\n",
              "dtype: object"
            ]
          },
          "metadata": {},
          "execution_count": 12
        }
      ],
      "source": [
        "df.tail()\n",
        "df.dtypes"
      ]
    },
    {
      "cell_type": "markdown",
      "metadata": {
        "id": "aBEZeYkHKSHv"
      },
      "source": [
        "### Normalizing Input and OutPuts"
      ]
    },
    {
      "cell_type": "code",
      "execution_count": 13,
      "metadata": {
        "colab": {
          "base_uri": "https://localhost:8080/",
          "height": 361
        },
        "id": "8JlZu1wXKi_c",
        "outputId": "4a8c0edf-0544-4354-adea-c1dd40385a65"
      },
      "outputs": [
        {
          "output_type": "execute_result",
          "data": {
            "text/plain": [
              "               0           1           2           3           4           5   \\\n",
              "count  690.000000  690.000000  690.000000  690.000000  690.000000  690.000000   \n",
              "mean     0.830435    0.431315    0.169954    0.738647    0.488889    0.476605   \n",
              "std      0.254597    0.275613    0.177792    0.159029    0.286709    0.308590   \n",
              "min      0.000000    0.000000    0.000000    0.000000    0.000000    0.000000   \n",
              "25%      0.500000    0.203438    0.035714    0.666667    0.333333    0.142857   \n",
              "50%      1.000000    0.382521    0.098214    0.666667    0.333333    0.428571   \n",
              "75%      1.000000    0.647564    0.257411    0.666667    0.333333    0.785714   \n",
              "max      1.000000    1.000000    1.000000    1.000000    1.000000    1.000000   \n",
              "\n",
              "               6           7           8           9           10          11  \\\n",
              "count  690.000000  690.000000  690.000000  690.000000  690.000000  690.000000   \n",
              "mean     0.666023    0.078014    0.523188    0.427536    0.035821    0.457971   \n",
              "std      0.288278    0.117422    0.499824    0.495080    0.072581    0.498592   \n",
              "min      0.000000    0.000000    0.000000    0.000000    0.000000    0.000000   \n",
              "25%      0.444444    0.005789    0.000000    0.000000    0.000000    0.000000   \n",
              "50%      0.888889    0.035088    1.000000    0.000000    0.000000    0.000000   \n",
              "75%      0.888889    0.092105    1.000000    1.000000    0.044776    1.000000   \n",
              "max      1.000000    1.000000    1.000000    1.000000    1.000000    1.000000   \n",
              "\n",
              "               12          13          14          15  \n",
              "count  690.000000  690.000000  690.000000  690.000000  \n",
              "mean     0.088406    0.349369    0.010174    0.555072  \n",
              "std      0.278934    0.283716    0.052101    0.497318  \n",
              "min      0.000000    0.000000    0.000000    0.000000  \n",
              "25%      0.000000    0.135294    0.000000    0.000000  \n",
              "50%      0.000000    0.305882    0.000050    1.000000  \n",
              "75%      0.000000    0.564706    0.003955    1.000000  \n",
              "max      1.000000    1.000000    1.000000    1.000000  "
            ],
            "text/html": [
              "\n",
              "  <div id=\"df-a3b59d73-f7f4-429d-aa27-b014888039f7\">\n",
              "    <div class=\"colab-df-container\">\n",
              "      <div>\n",
              "<style scoped>\n",
              "    .dataframe tbody tr th:only-of-type {\n",
              "        vertical-align: middle;\n",
              "    }\n",
              "\n",
              "    .dataframe tbody tr th {\n",
              "        vertical-align: top;\n",
              "    }\n",
              "\n",
              "    .dataframe thead th {\n",
              "        text-align: right;\n",
              "    }\n",
              "</style>\n",
              "<table border=\"1\" class=\"dataframe\">\n",
              "  <thead>\n",
              "    <tr style=\"text-align: right;\">\n",
              "      <th></th>\n",
              "      <th>0</th>\n",
              "      <th>1</th>\n",
              "      <th>2</th>\n",
              "      <th>3</th>\n",
              "      <th>4</th>\n",
              "      <th>5</th>\n",
              "      <th>6</th>\n",
              "      <th>7</th>\n",
              "      <th>8</th>\n",
              "      <th>9</th>\n",
              "      <th>10</th>\n",
              "      <th>11</th>\n",
              "      <th>12</th>\n",
              "      <th>13</th>\n",
              "      <th>14</th>\n",
              "      <th>15</th>\n",
              "    </tr>\n",
              "  </thead>\n",
              "  <tbody>\n",
              "    <tr>\n",
              "      <th>count</th>\n",
              "      <td>690.000000</td>\n",
              "      <td>690.000000</td>\n",
              "      <td>690.000000</td>\n",
              "      <td>690.000000</td>\n",
              "      <td>690.000000</td>\n",
              "      <td>690.000000</td>\n",
              "      <td>690.000000</td>\n",
              "      <td>690.000000</td>\n",
              "      <td>690.000000</td>\n",
              "      <td>690.000000</td>\n",
              "      <td>690.000000</td>\n",
              "      <td>690.000000</td>\n",
              "      <td>690.000000</td>\n",
              "      <td>690.000000</td>\n",
              "      <td>690.000000</td>\n",
              "      <td>690.000000</td>\n",
              "    </tr>\n",
              "    <tr>\n",
              "      <th>mean</th>\n",
              "      <td>0.830435</td>\n",
              "      <td>0.431315</td>\n",
              "      <td>0.169954</td>\n",
              "      <td>0.738647</td>\n",
              "      <td>0.488889</td>\n",
              "      <td>0.476605</td>\n",
              "      <td>0.666023</td>\n",
              "      <td>0.078014</td>\n",
              "      <td>0.523188</td>\n",
              "      <td>0.427536</td>\n",
              "      <td>0.035821</td>\n",
              "      <td>0.457971</td>\n",
              "      <td>0.088406</td>\n",
              "      <td>0.349369</td>\n",
              "      <td>0.010174</td>\n",
              "      <td>0.555072</td>\n",
              "    </tr>\n",
              "    <tr>\n",
              "      <th>std</th>\n",
              "      <td>0.254597</td>\n",
              "      <td>0.275613</td>\n",
              "      <td>0.177792</td>\n",
              "      <td>0.159029</td>\n",
              "      <td>0.286709</td>\n",
              "      <td>0.308590</td>\n",
              "      <td>0.288278</td>\n",
              "      <td>0.117422</td>\n",
              "      <td>0.499824</td>\n",
              "      <td>0.495080</td>\n",
              "      <td>0.072581</td>\n",
              "      <td>0.498592</td>\n",
              "      <td>0.278934</td>\n",
              "      <td>0.283716</td>\n",
              "      <td>0.052101</td>\n",
              "      <td>0.497318</td>\n",
              "    </tr>\n",
              "    <tr>\n",
              "      <th>min</th>\n",
              "      <td>0.000000</td>\n",
              "      <td>0.000000</td>\n",
              "      <td>0.000000</td>\n",
              "      <td>0.000000</td>\n",
              "      <td>0.000000</td>\n",
              "      <td>0.000000</td>\n",
              "      <td>0.000000</td>\n",
              "      <td>0.000000</td>\n",
              "      <td>0.000000</td>\n",
              "      <td>0.000000</td>\n",
              "      <td>0.000000</td>\n",
              "      <td>0.000000</td>\n",
              "      <td>0.000000</td>\n",
              "      <td>0.000000</td>\n",
              "      <td>0.000000</td>\n",
              "      <td>0.000000</td>\n",
              "    </tr>\n",
              "    <tr>\n",
              "      <th>25%</th>\n",
              "      <td>0.500000</td>\n",
              "      <td>0.203438</td>\n",
              "      <td>0.035714</td>\n",
              "      <td>0.666667</td>\n",
              "      <td>0.333333</td>\n",
              "      <td>0.142857</td>\n",
              "      <td>0.444444</td>\n",
              "      <td>0.005789</td>\n",
              "      <td>0.000000</td>\n",
              "      <td>0.000000</td>\n",
              "      <td>0.000000</td>\n",
              "      <td>0.000000</td>\n",
              "      <td>0.000000</td>\n",
              "      <td>0.135294</td>\n",
              "      <td>0.000000</td>\n",
              "      <td>0.000000</td>\n",
              "    </tr>\n",
              "    <tr>\n",
              "      <th>50%</th>\n",
              "      <td>1.000000</td>\n",
              "      <td>0.382521</td>\n",
              "      <td>0.098214</td>\n",
              "      <td>0.666667</td>\n",
              "      <td>0.333333</td>\n",
              "      <td>0.428571</td>\n",
              "      <td>0.888889</td>\n",
              "      <td>0.035088</td>\n",
              "      <td>1.000000</td>\n",
              "      <td>0.000000</td>\n",
              "      <td>0.000000</td>\n",
              "      <td>0.000000</td>\n",
              "      <td>0.000000</td>\n",
              "      <td>0.305882</td>\n",
              "      <td>0.000050</td>\n",
              "      <td>1.000000</td>\n",
              "    </tr>\n",
              "    <tr>\n",
              "      <th>75%</th>\n",
              "      <td>1.000000</td>\n",
              "      <td>0.647564</td>\n",
              "      <td>0.257411</td>\n",
              "      <td>0.666667</td>\n",
              "      <td>0.333333</td>\n",
              "      <td>0.785714</td>\n",
              "      <td>0.888889</td>\n",
              "      <td>0.092105</td>\n",
              "      <td>1.000000</td>\n",
              "      <td>1.000000</td>\n",
              "      <td>0.044776</td>\n",
              "      <td>1.000000</td>\n",
              "      <td>0.000000</td>\n",
              "      <td>0.564706</td>\n",
              "      <td>0.003955</td>\n",
              "      <td>1.000000</td>\n",
              "    </tr>\n",
              "    <tr>\n",
              "      <th>max</th>\n",
              "      <td>1.000000</td>\n",
              "      <td>1.000000</td>\n",
              "      <td>1.000000</td>\n",
              "      <td>1.000000</td>\n",
              "      <td>1.000000</td>\n",
              "      <td>1.000000</td>\n",
              "      <td>1.000000</td>\n",
              "      <td>1.000000</td>\n",
              "      <td>1.000000</td>\n",
              "      <td>1.000000</td>\n",
              "      <td>1.000000</td>\n",
              "      <td>1.000000</td>\n",
              "      <td>1.000000</td>\n",
              "      <td>1.000000</td>\n",
              "      <td>1.000000</td>\n",
              "      <td>1.000000</td>\n",
              "    </tr>\n",
              "  </tbody>\n",
              "</table>\n",
              "</div>\n",
              "      <button class=\"colab-df-convert\" onclick=\"convertToInteractive('df-a3b59d73-f7f4-429d-aa27-b014888039f7')\"\n",
              "              title=\"Convert this dataframe to an interactive table.\"\n",
              "              style=\"display:none;\">\n",
              "        \n",
              "  <svg xmlns=\"http://www.w3.org/2000/svg\" height=\"24px\"viewBox=\"0 0 24 24\"\n",
              "       width=\"24px\">\n",
              "    <path d=\"M0 0h24v24H0V0z\" fill=\"none\"/>\n",
              "    <path d=\"M18.56 5.44l.94 2.06.94-2.06 2.06-.94-2.06-.94-.94-2.06-.94 2.06-2.06.94zm-11 1L8.5 8.5l.94-2.06 2.06-.94-2.06-.94L8.5 2.5l-.94 2.06-2.06.94zm10 10l.94 2.06.94-2.06 2.06-.94-2.06-.94-.94-2.06-.94 2.06-2.06.94z\"/><path d=\"M17.41 7.96l-1.37-1.37c-.4-.4-.92-.59-1.43-.59-.52 0-1.04.2-1.43.59L10.3 9.45l-7.72 7.72c-.78.78-.78 2.05 0 2.83L4 21.41c.39.39.9.59 1.41.59.51 0 1.02-.2 1.41-.59l7.78-7.78 2.81-2.81c.8-.78.8-2.07 0-2.86zM5.41 20L4 18.59l7.72-7.72 1.47 1.35L5.41 20z\"/>\n",
              "  </svg>\n",
              "      </button>\n",
              "      \n",
              "  <style>\n",
              "    .colab-df-container {\n",
              "      display:flex;\n",
              "      flex-wrap:wrap;\n",
              "      gap: 12px;\n",
              "    }\n",
              "\n",
              "    .colab-df-convert {\n",
              "      background-color: #E8F0FE;\n",
              "      border: none;\n",
              "      border-radius: 50%;\n",
              "      cursor: pointer;\n",
              "      display: none;\n",
              "      fill: #1967D2;\n",
              "      height: 32px;\n",
              "      padding: 0 0 0 0;\n",
              "      width: 32px;\n",
              "    }\n",
              "\n",
              "    .colab-df-convert:hover {\n",
              "      background-color: #E2EBFA;\n",
              "      box-shadow: 0px 1px 2px rgba(60, 64, 67, 0.3), 0px 1px 3px 1px rgba(60, 64, 67, 0.15);\n",
              "      fill: #174EA6;\n",
              "    }\n",
              "\n",
              "    [theme=dark] .colab-df-convert {\n",
              "      background-color: #3B4455;\n",
              "      fill: #D2E3FC;\n",
              "    }\n",
              "\n",
              "    [theme=dark] .colab-df-convert:hover {\n",
              "      background-color: #434B5C;\n",
              "      box-shadow: 0px 1px 3px 1px rgba(0, 0, 0, 0.15);\n",
              "      filter: drop-shadow(0px 1px 2px rgba(0, 0, 0, 0.3));\n",
              "      fill: #FFFFFF;\n",
              "    }\n",
              "  </style>\n",
              "\n",
              "      <script>\n",
              "        const buttonEl =\n",
              "          document.querySelector('#df-a3b59d73-f7f4-429d-aa27-b014888039f7 button.colab-df-convert');\n",
              "        buttonEl.style.display =\n",
              "          google.colab.kernel.accessAllowed ? 'block' : 'none';\n",
              "\n",
              "        async function convertToInteractive(key) {\n",
              "          const element = document.querySelector('#df-a3b59d73-f7f4-429d-aa27-b014888039f7');\n",
              "          const dataTable =\n",
              "            await google.colab.kernel.invokeFunction('convertToInteractive',\n",
              "                                                     [key], {});\n",
              "          if (!dataTable) return;\n",
              "\n",
              "          const docLinkHtml = 'Like what you see? Visit the ' +\n",
              "            '<a target=\"_blank\" href=https://colab.research.google.com/notebooks/data_table.ipynb>data table notebook</a>'\n",
              "            + ' to learn more about interactive tables.';\n",
              "          element.innerHTML = '';\n",
              "          dataTable['output_type'] = 'display_data';\n",
              "          await google.colab.output.renderOutput(dataTable, element);\n",
              "          const docLink = document.createElement('div');\n",
              "          docLink.innerHTML = docLinkHtml;\n",
              "          element.appendChild(docLink);\n",
              "        }\n",
              "      </script>\n",
              "    </div>\n",
              "  </div>\n",
              "  "
            ]
          },
          "metadata": {},
          "execution_count": 13
        }
      ],
      "source": [
        "from sklearn.preprocessing import MinMaxScaler\n",
        "scaler = MinMaxScaler()\n",
        "df = pd.DataFrame(scaler.fit_transform(df))\n",
        "\n",
        "df.describe()"
      ]
    },
    {
      "cell_type": "code",
      "execution_count": 14,
      "metadata": {
        "id": "X-hX2NQIPao9"
      },
      "outputs": [],
      "source": [
        "X= df.iloc[:,0:15].values   #0:15\n",
        "Y= df.iloc[:,15:16].values"
      ]
    },
    {
      "cell_type": "code",
      "source": [
        "X_train1, X_test1, y_train1, y_test1 = train_test_split(X, Y, test_size=0.3, random_state=42)"
      ],
      "metadata": {
        "id": "XwETNIsEiLYK"
      },
      "execution_count": 17,
      "outputs": []
    },
    {
      "cell_type": "code",
      "execution_count": 18,
      "metadata": {
        "id": "QXuwUe0PRjQy"
      },
      "outputs": [],
      "source": [
        "np.random.seed(42)"
      ]
    },
    {
      "cell_type": "code",
      "execution_count": null,
      "metadata": {
        "id": "Qz89CyVwjB_X"
      },
      "outputs": [],
      "source": [
        "# from sklearn.model_selection import train_test_split \n",
        "# X_train, X_test, y_train, y_test = train_test_split(X, Y, test_size=0.2, random_state=0)"
      ]
    },
    {
      "cell_type": "code",
      "execution_count": 19,
      "metadata": {
        "id": "nyO0rM1l2COW"
      },
      "outputs": [],
      "source": [
        "sFolds = StratifiedKFold(n_splits =5)"
      ]
    },
    {
      "cell_type": "markdown",
      "metadata": {
        "id": "ygP2HHr_hmC8"
      },
      "source": [
        "### Model Parameters"
      ]
    },
    {
      "cell_type": "code",
      "execution_count": 20,
      "metadata": {
        "id": "m0zftAMhAwYy"
      },
      "outputs": [],
      "source": [
        "depth = 3\n",
        "no_of_neurons = [15, 10, 1]\n",
        "activation_func = ['relu', 'relu', 'sigmoid']\n",
        "#loss_func = 'binary_crossentropy'\n",
        "loss_func = 'mse'\n",
        "regularizer =  tf.keras.regularizers.l2(0) "
      ]
    },
    {
      "cell_type": "markdown",
      "metadata": {
        "id": "TC3cC1AbJJFW"
      },
      "source": [
        "### Generate Model"
      ]
    },
    {
      "cell_type": "code",
      "execution_count": 21,
      "metadata": {
        "id": "4Y28St9tk5Su"
      },
      "outputs": [],
      "source": [
        "def generate_model():\n",
        "  model = tf.keras.models.Sequential()\n",
        "  print('Network configuration ',no_of_neurons)\n",
        "\n",
        "  model.add(tf.keras.layers.Dense(no_of_neurons[0], input_dim=15, activation = activation_func[0], kernel_regularizer=regularizer))\n",
        "\n",
        "  for x in range(1, depth-1):\n",
        "      model.add(tf.keras.layers.Dense(no_of_neurons[x], activation = activation_func[x],kernel_regularizer=regularizer))  \n",
        "\n",
        "  model.add(tf.keras.layers.Dense(no_of_neurons[depth-1], activation = activation_func[depth-1]))  \n",
        "    \n",
        "  model.compile(loss = loss_func , optimizer = 'adam' , metrics = ['binary_accuracy']) \n",
        "        \n",
        "  return model"
      ]
    },
    {
      "cell_type": "markdown",
      "metadata": {
        "id": "JWng4MNcJcmW"
      },
      "source": [
        "### Evaluate Model"
      ]
    },
    {
      "cell_type": "code",
      "execution_count": 22,
      "metadata": {
        "id": "J7MYSim4q6wn"
      },
      "outputs": [],
      "source": [
        "def evaluate(verbose=False):\n",
        "    n_split=5\n",
        "    f1_scores = []\n",
        "    losses = []\n",
        "\n",
        "    for train_index,test_index in StratifiedKFold(n_split).split(X_train1, y_train1):      # StratifiedKFold, KFold\n",
        "        x_train,x_test=X[train_index],X[test_index]\n",
        "        y_train,y_test=Y[train_index],Y[test_index]\n",
        "\n",
        "        model=generate_model()\n",
        "        model.fit(x_train, y_train,epochs=100, verbose=0)\n",
        "        evaluationMetrics = model.evaluate(x_test,y_test, verbose=0)\n",
        "        \n",
        "        if verbose:\n",
        "            print('Model evaluation ',evaluationMetrics)   # This returns metric values for the evaluation\n",
        "\n",
        "        y_pred = np.where(model.predict(x_test) > 0.5, 1, 0)\n",
        "        f1 = metrics.f1_score(y_test, y_pred , average=\"macro\")\n",
        "\n",
        "        if verbose:\n",
        "            print('F1 score is ', f1)\n",
        "        \n",
        "        f1_scores.append(f1)\n",
        "        losses.append(evaluationMetrics[0])\n",
        "    \n",
        "    return np.mean(f1_scores), np.mean(losses)"
      ]
    },
    {
      "cell_type": "code",
      "execution_count": 36,
      "metadata": {
        "colab": {
          "base_uri": "https://localhost:8080/"
        },
        "id": "RxR5a2HAr_ci",
        "outputId": "f0112cd8-ae43-441b-8509-62e8380f1ac9"
      },
      "outputs": [
        {
          "output_type": "stream",
          "name": "stdout",
          "text": [
            "Network configuration  [15, 10, 1]\n",
            "Network configuration  [15, 10, 1]\n",
            "Network configuration  [15, 10, 1]\n",
            "Network configuration  [15, 10, 1]\n",
            "Network configuration  [15, 10, 1]\n"
          ]
        },
        {
          "output_type": "execute_result",
          "data": {
            "text/plain": [
              "(0.6049439274072677, 0.11606017127633095)"
            ]
          },
          "metadata": {},
          "execution_count": 36
        }
      ],
      "source": [
        "evaluate()"
      ]
    },
    {
      "cell_type": "code",
      "execution_count": 26,
      "metadata": {
        "colab": {
          "base_uri": "https://localhost:8080/"
        },
        "id": "HTa09k70Mzri",
        "outputId": "e6850c3a-bf07-4d8d-fd86-edccc73948a4"
      },
      "outputs": [
        {
          "output_type": "stream",
          "name": "stdout",
          "text": [
            "Network configuration  [15, 10, 1]\n",
            "Network configuration  [15, 10, 1]\n",
            "Network configuration  [15, 10, 1]\n",
            "Network configuration  [15, 10, 1]\n",
            "Network configuration  [15, 10, 1]\n",
            "(0.7089160848243337, 0.38818862587213515)\n",
            "Network configuration  [15, 25, 1]\n",
            "Network configuration  [15, 25, 1]\n",
            "Network configuration  [15, 25, 1]\n",
            "Network configuration  [15, 25, 1]\n",
            "Network configuration  [15, 25, 1]\n",
            "(0.694275928668074, 0.3995523348450661)\n",
            "Network configuration  [30, 15, 1]\n",
            "Network configuration  [30, 15, 1]\n",
            "Network configuration  [30, 15, 1]\n",
            "Network configuration  [30, 15, 1]\n",
            "Network configuration  [30, 15, 1]\n",
            "(0.6953131763765766, 0.3919758588075638)\n"
          ]
        }
      ],
      "source": [
        "x = [[15,10,1],[15, 25, 1 ], [30,15,1]]\n",
        "for i in x:\n",
        "  depth = 3\n",
        "  no_of_neurons = i\n",
        "  #activation_func = ['relu', 'relu', 'sigmoid']\n",
        "  activation_func = ['tanh', 'tanh', 'sigmoid']\n",
        "  loss_func = 'binary_crossentropy'\n",
        "  #loss_function = 'mse'\n",
        "  regularizer =  tf.keras.regularizers.l2(0) \n",
        "\n",
        "  print(evaluate())"
      ]
    },
    {
      "cell_type": "code",
      "execution_count": 30,
      "metadata": {
        "colab": {
          "base_uri": "https://localhost:8080/"
        },
        "id": "4zkU7mSvckyp",
        "outputId": "b7089102-70b8-409a-be3d-ba8806ea8b05"
      },
      "outputs": [
        {
          "output_type": "stream",
          "name": "stdout",
          "text": [
            "Network configuration  [15, 1]\n",
            "Network configuration  [15, 1]\n",
            "Network configuration  [15, 1]\n",
            "Network configuration  [15, 1]\n",
            "Network configuration  [15, 1]\n",
            "(0.7032908205422926, 0.3911636799573898)\n",
            "Network configuration  [30, 1]\n",
            "Network configuration  [30, 1]\n",
            "Network configuration  [30, 1]\n",
            "Network configuration  [30, 1]\n",
            "Network configuration  [30, 1]\n",
            "(0.6984211886436951, 0.3925758108496666)\n"
          ]
        }
      ],
      "source": [
        "x = [[15,1],[30,1]]\n",
        "for i in x:\n",
        "  depth = 2\n",
        "  no_of_neurons = i\n",
        "  #activation_func = ['relu', 'sigmoid']\n",
        "  activation_func = ['tanh', 'sigmoid']\n",
        "  loss_func = 'binary_crossentropy'\n",
        "  #loss_function = 'mse'\n",
        "  regularizer =  tf.keras.regularizers.l2(0) \n",
        "\n",
        "  print(evaluate())"
      ]
    },
    {
      "cell_type": "code",
      "execution_count": 34,
      "metadata": {
        "colab": {
          "base_uri": "https://localhost:8080/"
        },
        "id": "w9OurjW73xoX",
        "outputId": "34fbd11d-0435-4b8a-ed1b-977ee5f43457"
      },
      "outputs": [
        {
          "output_type": "stream",
          "name": "stdout",
          "text": [
            "Network configuration  [15, 20, 10, 1]\n",
            "Network configuration  [15, 20, 10, 1]\n",
            "Network configuration  [15, 20, 10, 1]\n",
            "Network configuration  [15, 20, 10, 1]\n",
            "Network configuration  [15, 20, 10, 1]\n",
            "(0.7228106698698589, 0.40755943208932877)\n",
            "Network configuration  [15, 20, 30, 1]\n",
            "Network configuration  [15, 20, 30, 1]\n",
            "Network configuration  [15, 20, 30, 1]\n",
            "Network configuration  [15, 20, 30, 1]\n",
            "Network configuration  [15, 20, 30, 1]\n",
            "(0.7104736912060875, 0.3827498838305473)\n",
            "Network configuration  [15, 10, 5, 1]\n",
            "Network configuration  [15, 10, 5, 1]\n",
            "Network configuration  [15, 10, 5, 1]\n",
            "Network configuration  [15, 10, 5, 1]\n",
            "Network configuration  [15, 10, 5, 1]\n",
            "(0.7030742483436161, 0.40171498209238055)\n",
            "Network configuration  [15, 15, 15, 1]\n",
            "Network configuration  [15, 15, 15, 1]\n",
            "Network configuration  [15, 15, 15, 1]\n",
            "Network configuration  [15, 15, 15, 1]\n",
            "Network configuration  [15, 15, 15, 1]\n",
            "(0.7220642965874238, 0.3984789505600929)\n"
          ]
        }
      ],
      "source": [
        "x = [[15,20,10,1],[15,20,30,1], [15,10, 5,1], [15,15,15,1]]\n",
        "for i in x:\n",
        "  depth = 4\n",
        "  no_of_neurons = i\n",
        "  #activation_func = ['relu', 'relu', 'relu',  'sigmoid']\n",
        "  activation_func = ['tanh','tanh','tanh', 'sigmoid']\n",
        "  loss_func = 'binary_crossentropy'\n",
        "  #loss_function = 'mse'\n",
        "  regularizer =  tf.keras.regularizers.l2(0) \n",
        "\n",
        "  print(evaluate())"
      ]
    },
    {
      "cell_type": "markdown",
      "metadata": {
        "id": "w3ieeScIDffr"
      },
      "source": [
        "## Regularizer related testing"
      ]
    },
    {
      "cell_type": "code",
      "execution_count": 36,
      "metadata": {
        "colab": {
          "base_uri": "https://localhost:8080/"
        },
        "id": "SEyDINF_Ddkf",
        "outputId": "e4e34342-907a-47a1-c360-3bf4bcdd0975"
      },
      "outputs": [
        {
          "output_type": "stream",
          "name": "stdout",
          "text": [
            "Network configuration  [15, 20, 30, 1]\n",
            "Network configuration  [15, 20, 30, 1]\n",
            "Network configuration  [15, 20, 30, 1]\n",
            "Network configuration  [15, 20, 30, 1]\n",
            "Network configuration  [15, 20, 30, 1]\n",
            "(0.6289370523062827, 0.46975400745868684)\n",
            "Network configuration  [15, 20, 30, 1]\n",
            "Network configuration  [15, 20, 30, 1]\n",
            "Network configuration  [15, 20, 30, 1]\n",
            "Network configuration  [15, 20, 30, 1]\n",
            "Network configuration  [15, 20, 30, 1]\n",
            "(0.693710073861407, 0.4783938616514206)\n",
            "Network configuration  [15, 20, 30, 1]\n",
            "Network configuration  [15, 20, 30, 1]\n",
            "Network configuration  [15, 20, 30, 1]\n",
            "Network configuration  [15, 20, 30, 1]\n",
            "Network configuration  [15, 20, 30, 1]\n",
            "(0.2861118213013224, 0.7696570992469788)\n",
            "Network configuration  [15, 20, 30, 1]\n",
            "Network configuration  [15, 20, 30, 1]\n",
            "Network configuration  [15, 20, 30, 1]\n",
            "Network configuration  [15, 20, 30, 1]\n",
            "Network configuration  [15, 20, 30, 1]\n",
            "(0.14323705124108202, 0.8149792909622192)\n"
          ]
        }
      ],
      "source": [
        "x = [0.001, 0.01, 0.1, 1]\n",
        "for i in x:\n",
        "  depth = 4\n",
        "  no_of_neurons = [15,20,30,1]\n",
        "  activation_func = ['relu', 'relu', 'relu',  'sigmoid']\n",
        "  #activation_func = ['tanh','tanh','tanh', 'sigmoid']\n",
        "  loss_func = 'binary_crossentropy'\n",
        "  #loss_function = 'mse'\n",
        "  regularizer =  tf.keras.regularizers.l2(i) \n",
        "\n",
        "  print(evaluate())"
      ]
    },
    {
      "cell_type": "code",
      "execution_count": 37,
      "metadata": {
        "colab": {
          "base_uri": "https://localhost:8080/"
        },
        "id": "CwZwTHyuEkjb",
        "outputId": "8a3c4733-0eb4-4a9c-c4d6-e0988fff7205"
      },
      "outputs": [
        {
          "output_type": "stream",
          "name": "stdout",
          "text": [
            "Network configuration  [15, 20, 30, 1]\n",
            "Network configuration  [15, 20, 30, 1]\n",
            "Network configuration  [15, 20, 30, 1]\n",
            "Network configuration  [15, 20, 30, 1]\n",
            "Network configuration  [15, 20, 30, 1]\n",
            "(0.7089212997256522, 0.48995672166347504)\n",
            "Network configuration  [15, 20, 30, 1]\n",
            "Network configuration  [15, 20, 30, 1]\n",
            "Network configuration  [15, 20, 30, 1]\n",
            "Network configuration  [15, 20, 30, 1]\n",
            "Network configuration  [15, 20, 30, 1]\n",
            "(0.6725024967801914, 0.5327632188796997)\n",
            "Network configuration  [15, 20, 30, 1]\n",
            "Network configuration  [15, 20, 30, 1]\n",
            "Network configuration  [15, 20, 30, 1]\n",
            "Network configuration  [15, 20, 30, 1]\n",
            "Network configuration  [15, 20, 30, 1]\n",
            "(0.14323705124108202, 0.8349617838859558)\n",
            "Network configuration  [15, 20, 30, 1]\n",
            "Network configuration  [15, 20, 30, 1]\n",
            "Network configuration  [15, 20, 30, 1]\n",
            "Network configuration  [15, 20, 30, 1]\n",
            "Network configuration  [15, 20, 30, 1]\n",
            "(0.14323705124108202, 0.9601915717124939)\n"
          ]
        }
      ],
      "source": [
        "x = [0.001, 0.01, 0.1, 1]\n",
        "for i in x:\n",
        "  depth = 4\n",
        "  no_of_neurons = [15,20, 30, 1]\n",
        "  activation_func = ['relu', 'relu', 'relu',  'sigmoid']\n",
        "  #activation_func = ['tanh','tanh', 'tanh', 'sigmoid']\n",
        "  loss_func = 'binary_crossentropy'\n",
        "  #loss_function = 'mse'\n",
        "  regularizer =  tf.keras.regularizers.l1(i) \n",
        "\n",
        "  print(evaluate())"
      ]
    },
    {
      "cell_type": "markdown",
      "source": [
        ""
      ],
      "metadata": {
        "id": "LI4_caMUe8iT"
      }
    },
    {
      "cell_type": "code",
      "source": [
        "depth = 4\n",
        "no_of_neurons = [15,20,30,1]\n",
        "activation_func = ['relu', 'relu', 'relu',  'sigmoid']\n",
        "#activation_func = ['tanh','tanh','tanh', 'sigmoid']\n",
        "loss_func = 'binary_crossentropy'\n",
        "  #loss_function = 'mse'\n",
        "regularizer =  tf.keras.regularizers.l1(0.001) "
      ],
      "metadata": {
        "id": "GhAtg4QdgYKj"
      },
      "execution_count": 38,
      "outputs": []
    },
    {
      "cell_type": "code",
      "source": [
        "model=generate_model()\n",
        "model.fit(X_train1, y_train1,epochs=50, verbose=0)\n",
        "evaluationMetrics = model.evaluate(X_test1,y_test1, verbose=0)\n",
        "y_pred = np.where(model.predict(X_test1) > 0.5, 1, 0)\n",
        "f1 = metrics.f1_score(y_test1, y_pred , average=\"macro\")"
      ],
      "metadata": {
        "colab": {
          "base_uri": "https://localhost:8080/"
        },
        "id": "G457fAExgnvu",
        "outputId": "d6400ea1-b6a9-4cae-c0d2-7bbf33f3c1f8"
      },
      "execution_count": 39,
      "outputs": [
        {
          "output_type": "stream",
          "name": "stdout",
          "text": [
            "Network configuration  [15, 20, 30, 1]\n"
          ]
        }
      ]
    },
    {
      "cell_type": "code",
      "source": [
        "f1"
      ],
      "metadata": {
        "colab": {
          "base_uri": "https://localhost:8080/"
        },
        "id": "zt--A6DyhO-W",
        "outputId": "2dc2fb69-b53b-4777-b59c-420735ca8cb0"
      },
      "execution_count": 40,
      "outputs": [
        {
          "output_type": "execute_result",
          "data": {
            "text/plain": [
              "0.8405648267008985"
            ]
          },
          "metadata": {},
          "execution_count": 40
        }
      ]
    },
    {
      "cell_type": "code",
      "source": [
        "evaluationMetrics[0]"
      ],
      "metadata": {
        "colab": {
          "base_uri": "https://localhost:8080/"
        },
        "id": "niBnQ4o5hQk8",
        "outputId": "077e395b-2482-4e28-d1c9-84c80b58b69c"
      },
      "execution_count": 41,
      "outputs": [
        {
          "output_type": "execute_result",
          "data": {
            "text/plain": [
              "0.45473170280456543"
            ]
          },
          "metadata": {},
          "execution_count": 41
        }
      ]
    }
  ],
  "metadata": {
    "colab": {
      "name": "FNN_CODE_219412A.ipynb",
      "provenance": []
    },
    "kernelspec": {
      "display_name": "Python 3",
      "name": "python3"
    },
    "language_info": {
      "name": "python"
    }
  },
  "nbformat": 4,
  "nbformat_minor": 0
}